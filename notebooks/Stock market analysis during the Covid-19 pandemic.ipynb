{
 "cells": [
  {
   "cell_type": "markdown",
   "metadata": {},
   "source": [
    "# Stock market analysis during the Covid-19 pandemic"
   ]
  },
  {
   "cell_type": "markdown",
   "metadata": {},
   "source": [
    "#### Summary:\n",
    "The Covid-19 pandemic had severe impacts on stock markets. It would be informative to identify the trends of a chosen industry and validate the claims/forecasts of different analysts and agencies. Through public data from yahoo finance, stock market data can be obtained to identify these trends. Also, through qualitative research on various agencies such as Morningstar, their claims can be validated with data. A comparison of forecast accuracy among different analysts and agencies can then be achieved, and an overall stock price trend report of a chosen industry can be used as a general guide for future pandemics and financial crises."
   ]
  },
  {
   "cell_type": "markdown",
   "metadata": {},
   "source": [
    "## Libraries"
   ]
  },
  {
   "cell_type": "code",
   "execution_count": 2,
   "metadata": {},
   "outputs": [],
   "source": [
    "import pandas as pd\n",
    "import numpy as np\n",
    "import yfinance as yf"
   ]
  },
  {
   "cell_type": "markdown",
   "metadata": {},
   "source": [
    "## Validate analyst claims \n",
    "\n",
    "### Morningstar\n",
    "Ali Mogharabi from Morningstar: 'both companies (Uber and Lyft) will recover from this, although it will take until next year.’\n",
    "\n",
    "Prediction: Recovery will take until 2021, where recovery is taken to be pre-covid levels (defined as highest price of stock between Jan-Feb 2020 which was just before Covid-19)"
   ]
  },
  {
   "cell_type": "code",
   "execution_count": 16,
   "metadata": {},
   "outputs": [
    {
     "name": "stdout",
     "output_type": "stream",
     "text": [
      "[*********************100%***********************]  2 of 2 completed\n"
     ]
    }
   ],
   "source": [
    "#Markets open on 2nd Jan as 1st Jan is public holiday\n",
    "#Time horizon from Jan 2020 - Apr 2021\n",
    "data = yf.download(\"UBER LYFT\", start=\"2020-01-02\", end=\"2021-04-30\", interval=\"1d\", group_by=\"ticker\")\n",
    "data = data.reset_index() #to convert date from index to column "
   ]
  },
  {
   "cell_type": "code",
   "execution_count": 105,
   "metadata": {},
   "outputs": [
    {
     "data": {
      "text/html": [
       "<div>\n",
       "<style scoped>\n",
       "    .dataframe tbody tr th:only-of-type {\n",
       "        vertical-align: middle;\n",
       "    }\n",
       "\n",
       "    .dataframe tbody tr th {\n",
       "        vertical-align: top;\n",
       "    }\n",
       "\n",
       "    .dataframe thead tr th {\n",
       "        text-align: left;\n",
       "    }\n",
       "</style>\n",
       "<table border=\"1\" class=\"dataframe\">\n",
       "  <thead>\n",
       "    <tr>\n",
       "      <th></th>\n",
       "      <th>Date</th>\n",
       "      <th colspan=\"6\" halign=\"left\">UBER</th>\n",
       "      <th colspan=\"6\" halign=\"left\">LYFT</th>\n",
       "    </tr>\n",
       "    <tr>\n",
       "      <th></th>\n",
       "      <th></th>\n",
       "      <th>Open</th>\n",
       "      <th>High</th>\n",
       "      <th>Low</th>\n",
       "      <th>Close</th>\n",
       "      <th>Adj Close</th>\n",
       "      <th>Volume</th>\n",
       "      <th>Open</th>\n",
       "      <th>High</th>\n",
       "      <th>Low</th>\n",
       "      <th>Close</th>\n",
       "      <th>Adj Close</th>\n",
       "      <th>Volume</th>\n",
       "    </tr>\n",
       "  </thead>\n",
       "  <tbody>\n",
       "    <tr>\n",
       "      <th>0</th>\n",
       "      <td>2020-01-02</td>\n",
       "      <td>29.940001</td>\n",
       "      <td>31.000000</td>\n",
       "      <td>29.790001</td>\n",
       "      <td>30.990000</td>\n",
       "      <td>30.990000</td>\n",
       "      <td>20578900</td>\n",
       "      <td>43.220001</td>\n",
       "      <td>44.070000</td>\n",
       "      <td>43.165001</td>\n",
       "      <td>43.580002</td>\n",
       "      <td>43.580002</td>\n",
       "      <td>3912100</td>\n",
       "    </tr>\n",
       "    <tr>\n",
       "      <th>1</th>\n",
       "      <td>2020-01-03</td>\n",
       "      <td>30.620001</td>\n",
       "      <td>31.430000</td>\n",
       "      <td>30.480000</td>\n",
       "      <td>31.370001</td>\n",
       "      <td>31.370001</td>\n",
       "      <td>18822700</td>\n",
       "      <td>42.849998</td>\n",
       "      <td>43.360001</td>\n",
       "      <td>42.233002</td>\n",
       "      <td>43.189999</td>\n",
       "      <td>43.189999</td>\n",
       "      <td>4407200</td>\n",
       "    </tr>\n",
       "    <tr>\n",
       "      <th>2</th>\n",
       "      <td>2020-01-06</td>\n",
       "      <td>31.010000</td>\n",
       "      <td>32.060001</td>\n",
       "      <td>31.000000</td>\n",
       "      <td>31.580000</td>\n",
       "      <td>31.580000</td>\n",
       "      <td>21204700</td>\n",
       "      <td>42.790001</td>\n",
       "      <td>43.810001</td>\n",
       "      <td>42.380001</td>\n",
       "      <td>43.099998</td>\n",
       "      <td>43.099998</td>\n",
       "      <td>4964600</td>\n",
       "    </tr>\n",
       "    <tr>\n",
       "      <th>3</th>\n",
       "      <td>2020-01-07</td>\n",
       "      <td>31.790001</td>\n",
       "      <td>32.840000</td>\n",
       "      <td>31.360001</td>\n",
       "      <td>32.810001</td>\n",
       "      <td>32.810001</td>\n",
       "      <td>30119600</td>\n",
       "      <td>43.180000</td>\n",
       "      <td>44.700001</td>\n",
       "      <td>43.029999</td>\n",
       "      <td>44.250000</td>\n",
       "      <td>44.250000</td>\n",
       "      <td>4773500</td>\n",
       "    </tr>\n",
       "    <tr>\n",
       "      <th>4</th>\n",
       "      <td>2020-01-08</td>\n",
       "      <td>32.730000</td>\n",
       "      <td>34.520000</td>\n",
       "      <td>32.459999</td>\n",
       "      <td>33.930000</td>\n",
       "      <td>33.930000</td>\n",
       "      <td>43944400</td>\n",
       "      <td>44.139999</td>\n",
       "      <td>45.740002</td>\n",
       "      <td>43.869999</td>\n",
       "      <td>45.080002</td>\n",
       "      <td>45.080002</td>\n",
       "      <td>5636300</td>\n",
       "    </tr>\n",
       "  </tbody>\n",
       "</table>\n",
       "</div>"
      ],
      "text/plain": [
       "        Date       UBER                                                        \\\n",
       "                   Open       High        Low      Close  Adj Close    Volume   \n",
       "0 2020-01-02  29.940001  31.000000  29.790001  30.990000  30.990000  20578900   \n",
       "1 2020-01-03  30.620001  31.430000  30.480000  31.370001  31.370001  18822700   \n",
       "2 2020-01-06  31.010000  32.060001  31.000000  31.580000  31.580000  21204700   \n",
       "3 2020-01-07  31.790001  32.840000  31.360001  32.810001  32.810001  30119600   \n",
       "4 2020-01-08  32.730000  34.520000  32.459999  33.930000  33.930000  43944400   \n",
       "\n",
       "        LYFT                                                       \n",
       "        Open       High        Low      Close  Adj Close   Volume  \n",
       "0  43.220001  44.070000  43.165001  43.580002  43.580002  3912100  \n",
       "1  42.849998  43.360001  42.233002  43.189999  43.189999  4407200  \n",
       "2  42.790001  43.810001  42.380001  43.099998  43.099998  4964600  \n",
       "3  43.180000  44.700001  43.029999  44.250000  44.250000  4773500  \n",
       "4  44.139999  45.740002  43.869999  45.080002  45.080002  5636300  "
      ]
     },
     "execution_count": 105,
     "metadata": {},
     "output_type": "execute_result"
    }
   ],
   "source": [
    "data.head()"
   ]
  },
  {
   "cell_type": "code",
   "execution_count": 22,
   "metadata": {},
   "outputs": [
    {
     "name": "stdout",
     "output_type": "stream",
     "text": [
      "[39]\n",
      "uber pre-covid level: $41.27\n",
      "2020-11-05 at $41.96\n",
      "\n",
      "\n",
      "lyft pre-covid level: $53.94\n",
      "2021-02-10 at $56.21\n"
     ]
    }
   ],
   "source": [
    "#index for last date of trading in feb \n",
    "print(data[data['Date'] == '2020-02-28'].index.values)\n",
    "\n",
    "#The closing price is used, and highest price of stock between Jan-Feb 2020 is taken as pre-covid levels\n",
    "pre_covid_lv = round(max(data['UBER']['Close'].iloc[:39]),2)\n",
    "print('uber pre-covid level: $' + str(pre_covid_lv))\n",
    "\n",
    "#find which is the earliest date that the stock hits or surpasses pre-covid level\n",
    "for i in range(40,len(data)):\n",
    "    if data['UBER']['Close'].iloc[i]>= pre_covid_lv:\n",
    "        print(str(data['Date'].iloc[i].date())+ ' at $' + str(round(data['UBER']['Close'].iloc[i],2)))\n",
    "        break\n",
    "print('\\n')\n",
    "\n",
    "#repeat for lyft\n",
    "pre_covid_lv = round(max(data['LYFT']['Close'].iloc[:39]),2)\n",
    "print('lyft pre-covid level: $' + str(pre_covid_lv))\n",
    "for i in range(40,len(data)):\n",
    "    if data['LYFT']['Close'].iloc[i]>= pre_covid_lv:\n",
    "        print(str(data['Date'].iloc[i].date()) + ' at $' + str(round(data['LYFT']['Close'].iloc[i],2)))\n",
    "        break\n",
    "\n",
    "#convert to dataframe for scaling purpose"
   ]
  },
  {
   "cell_type": "markdown",
   "metadata": {},
   "source": [
    "Prediction that recovery will take until 2021 is partially true. Actual recovery was quicker for Uber that occurred on 5 Nov 2020, but actual recovery was as predicted for Lyft that occurred on 10 Feb 2021 when stock prices recovered to pre-covid levels."
   ]
  },
  {
   "cell_type": "markdown",
   "metadata": {},
   "source": [
    "## Fair value estimate\n",
    "Morningstar provides fair value estimates for stocks which are like reference points that an investor can use to determine if a stock is undervalued or overvalued. "
   ]
  },
  {
   "cell_type": "code",
   "execution_count": 27,
   "metadata": {},
   "outputs": [],
   "source": [
    "#function that takes in the stock ticker symbol, fair value estimate, date which analysis is made,\n",
    "#and returns when the fair value estimate is achieved, the profit earned from buying the stock when price < fair value, \n",
    "#and if price increases further when price > fair value \n",
    "def fairvalue(stock, estimate, date):\n",
    "    data = yf.download(stock, start=\"2020-01-02\", end=\"2021-04-30\", interval=\"1d\")\n",
    "    data = data.reset_index()\n",
    "    index = data[data['Date'] == date].index.values\n",
    "    price = data['Close'].iloc[index]\n",
    "    print(stock)\n",
    "    print('current date: ' + date)\n",
    "    print('current price: $'+ str(np.round(price.values[0],2)))\n",
    "    print('fair value estimate: $' + str(estimate))\n",
    "    if price.values[0] < estimate: # buy since price < fair value\n",
    "        if max(data['Close'].iloc[int(index):]) < estimate:\n",
    "            print('did not reach fair value, with max price: $' + str(round(max(data['Close'].iloc[int(index):]),2)) + ' on ' +\n",
    "                     str(data['Date'].iloc[data[(data['Close'] == max(data['Close'].iloc[int(index):]))].index.values[0]]))\n",
    "            print('profit: ' + \"{:.0%}\".format((max((data['Close'].iloc[int(index):]))-price.values[0])/price.values[0]))\n",
    "        else:\n",
    "            for i in range(int(index),len(data)):\n",
    "                if data['Close'][i] >= estimate:\n",
    "                    print('time to reach fair value: ' + str(data['Date'].iloc[i].date()) +', ' + \n",
    "                          str(data['Date'].iloc[i]-pd.to_datetime(date)) + ', at price: $' + str(round(data['Close'].iloc[i],2)))\n",
    "                    print('profit: ' + \"{:.0%}\".format((data['Close'].iloc[i]-price.values[0])/price.values[0])) \n",
    "                    break\n",
    "    else: # sell since price > fair value\n",
    "        print('Highest price: $' + str(round(max(data['Close'].iloc[int(index):]),2)) + ' on ' + \n",
    "              str(data['Date'].iloc[data[(data['Close'] == max(data['Close'].iloc[int(index):]))].index.values[0]]))\n",
    "        for i in range(int(index),len(data)):\n",
    "            if data['Close'][i] <= estimate:\n",
    "                print('lowest price hit fair value: $' + str(data['Close'][i]) + ' on ' + str(data['Date'][i]))\n",
    "                break\n",
    "            else:\n",
    "                print('lowest price did not hit fair value: $' + str(round(min(data['Close'].iloc[int(index):]),2)) + ' on ' +\n",
    "                     str(data['Date'].iloc[data[(data['Close'] == min(data['Close'].iloc[int(index):]))].index.values[0]]))\n",
    "                break\n"
   ]
  },
  {
   "cell_type": "code",
   "execution_count": 28,
   "metadata": {},
   "outputs": [
    {
     "name": "stdout",
     "output_type": "stream",
     "text": [
      "[*********************100%***********************]  1 of 1 completed\n",
      "CVE\n",
      "current date: 2020-03-19\n",
      "current price: $1.64\n",
      "fair value estimate: $7\n",
      "time to reach fair value: 2021-02-22, 340 days 00:00:00, at price: $7.19\n",
      "profit: 338%\n",
      "[*********************100%***********************]  1 of 1 completed\n",
      "BUD\n",
      "current date: 2020-03-19\n",
      "current price: $36.36\n",
      "fair value estimate: $96\n",
      "did not reach fair value, with max price: $72.14 on 2021-04-29 00:00:00\n",
      "profit: 98%\n",
      "[*********************100%***********************]  1 of 1 completed\n",
      "CTVA\n",
      "current date: 2020-03-19\n",
      "current price: $23.26\n",
      "fair value estimate: $40\n",
      "time to reach fair value: 2021-01-06, 293 days 00:00:00, at price: $41.07\n",
      "profit: 77%\n",
      "[*********************100%***********************]  1 of 1 completed\n",
      "AXP\n",
      "current date: 2020-03-19\n",
      "current price: $77.07\n",
      "fair value estimate: $125\n",
      "time to reach fair value: 2020-12-04, 260 days 00:00:00, at price: $125.04\n",
      "profit: 62%\n",
      "[*********************100%***********************]  1 of 1 completed\n",
      "ECL\n",
      "current date: 2020-03-19\n",
      "current price: $159.58\n",
      "fair value estimate: $191\n",
      "time to reach fair value: 2020-04-28, 40 days 00:00:00, at price: $197.58\n",
      "profit: 24%\n"
     ]
    }
   ],
   "source": [
    "#analysis from https://www.morningstar.com/articles/973345/5-more-stocks-we-like\n",
    "stocks = ['CVE','BUD','CTVA','AXP','ECL']\n",
    "date = '2020-03-19'\n",
    "fair_value = [7,96,40,125,191]\n",
    "stock_dict = {'stocks':['CVE','BUD','CTVA','AXP','ECL'], 'date':'2020-03-19', 'fair_value':[7,96,40,125,191]}\n",
    "for i in range(len(stock_dict['stocks'])):\n",
    "    stock = stock_dict['stocks'][i]\n",
    "    estimate = stock_dict['fair_value'][i]\n",
    "    date = stock_dict['date']\n",
    "    fairvalue(stock,estimate,date)\n",
    "\n",
    "#convert to dataframe "
   ]
  },
  {
   "cell_type": "code",
   "execution_count": 384,
   "metadata": {},
   "outputs": [
    {
     "name": "stdout",
     "output_type": "stream",
     "text": [
      "[*********************100%***********************]  1 of 1 completed\n",
      "HD\n",
      "current date: 2020-08-27\n",
      "current price: $288.63\n",
      "fair value estimate: $200\n",
      "Highest price: $328.08 on 2021-04-16 00:00:00\n",
      "lowest price did not hit fair value: $250.93 on 2021-03-04 00:00:00\n"
     ]
    }
   ],
   "source": [
    "fairvalue('HD', 200, '2020-08-27' )"
   ]
  },
  {
   "cell_type": "markdown",
   "metadata": {},
   "source": [
    "## yfinance recommendations\n",
    "The package yfinance allows users to download historical market data from yahoo finance. It also provides recommendations which will be validated. "
   ]
  },
  {
   "cell_type": "code",
   "execution_count": 3,
   "metadata": {},
   "outputs": [
    {
     "name": "stdout",
     "output_type": "stream",
     "text": [
      "47\n",
      "119\n"
     ]
    }
   ],
   "source": [
    "uber_df = yf.Ticker('UBER')\n",
    "uber_df = uber_df.recommendations.reset_index()\n",
    "#data cleaning to get data from Jan 2020 - Apr 2021\n",
    "uber_df['Date'] = pd.to_datetime(uber_df['Date']).dt.date #get rid of the time and keep the date portion \n",
    "for i in range(len(uber_df)):\n",
    "    if uber_df['Date'][i].year==2020:\n",
    "        print(i)\n",
    "        break\n",
    "for i in range(len(uber_df)):\n",
    "    if uber_df['Date'][i].year==2021 and uber_df['Date'][i].month==5:\n",
    "        print(i)\n",
    "        break\n",
    "uber_df = uber_df.iloc[47:119]"
   ]
  },
  {
   "cell_type": "code",
   "execution_count": 4,
   "metadata": {},
   "outputs": [
    {
     "data": {
      "text/html": [
       "<div>\n",
       "<style scoped>\n",
       "    .dataframe tbody tr th:only-of-type {\n",
       "        vertical-align: middle;\n",
       "    }\n",
       "\n",
       "    .dataframe tbody tr th {\n",
       "        vertical-align: top;\n",
       "    }\n",
       "\n",
       "    .dataframe thead th {\n",
       "        text-align: right;\n",
       "    }\n",
       "</style>\n",
       "<table border=\"1\" class=\"dataframe\">\n",
       "  <thead>\n",
       "    <tr style=\"text-align: right;\">\n",
       "      <th></th>\n",
       "      <th>Date</th>\n",
       "      <th>Firm</th>\n",
       "      <th>To Grade</th>\n",
       "      <th>From Grade</th>\n",
       "      <th>Action</th>\n",
       "    </tr>\n",
       "  </thead>\n",
       "  <tbody>\n",
       "    <tr>\n",
       "      <th>47</th>\n",
       "      <td>2020-01-10</td>\n",
       "      <td>Bernstein</td>\n",
       "      <td>Outperform</td>\n",
       "      <td></td>\n",
       "      <td>init</td>\n",
       "    </tr>\n",
       "    <tr>\n",
       "      <th>48</th>\n",
       "      <td>2020-01-23</td>\n",
       "      <td>Guggenheim</td>\n",
       "      <td>Buy</td>\n",
       "      <td></td>\n",
       "      <td>main</td>\n",
       "    </tr>\n",
       "    <tr>\n",
       "      <th>49</th>\n",
       "      <td>2020-01-28</td>\n",
       "      <td>UBS</td>\n",
       "      <td>Buy</td>\n",
       "      <td></td>\n",
       "      <td>init</td>\n",
       "    </tr>\n",
       "    <tr>\n",
       "      <th>50</th>\n",
       "      <td>2020-01-31</td>\n",
       "      <td>JP Morgan</td>\n",
       "      <td>Overweight</td>\n",
       "      <td></td>\n",
       "      <td>init</td>\n",
       "    </tr>\n",
       "    <tr>\n",
       "      <th>51</th>\n",
       "      <td>2020-02-03</td>\n",
       "      <td>Wedbush</td>\n",
       "      <td>Outperform</td>\n",
       "      <td></td>\n",
       "      <td>main</td>\n",
       "    </tr>\n",
       "  </tbody>\n",
       "</table>\n",
       "</div>"
      ],
      "text/plain": [
       "          Date        Firm    To Grade From Grade Action\n",
       "47  2020-01-10   Bernstein  Outperform              init\n",
       "48  2020-01-23  Guggenheim         Buy              main\n",
       "49  2020-01-28         UBS         Buy              init\n",
       "50  2020-01-31   JP Morgan  Overweight              init\n",
       "51  2020-02-03     Wedbush  Outperform              main"
      ]
     },
     "execution_count": 4,
     "metadata": {},
     "output_type": "execute_result"
    }
   ],
   "source": [
    "#Example from Uber\n",
    "uber_df.head()"
   ]
  },
  {
   "cell_type": "code",
   "execution_count": 181,
   "metadata": {},
   "outputs": [
    {
     "name": "stdout",
     "output_type": "stream",
     "text": [
      "['Bernstein' 'Guggenheim' 'UBS' 'JP Morgan' 'Wedbush' 'Morgan Stanley'\n",
      " 'Mizuho' 'RBC Capital' 'Stifel' 'MKM Partners' 'Canaccord Genuity'\n",
      " 'DA Davidson' 'CFRA' 'Needham' 'Oppenheimer' 'KeyBanc' 'Wells Fargo'\n",
      " 'Deutsche Bank' 'B of A Securities' 'Raymond James' 'Wolfe Research'\n",
      " 'BTIG' 'JMP Securities' 'Barclays' 'Daiwa Capital' 'Citigroup'\n",
      " 'Vertical Research' 'Jefferies' 'Nomura']\n",
      "\n",
      "\n",
      "['Outperform' 'Buy' 'Overweight' 'Neutral' 'Market Outperform']\n",
      "\n",
      "\n",
      "['' 'Neutral' 'Equal-Weight' 'Peer Perform' 'Outperform']\n",
      "\n",
      "\n",
      "['init' 'main' 'up' 'reit']\n"
     ]
    }
   ],
   "source": [
    "print(uber_df['Firm'].unique())\n",
    "print('\\n')\n",
    "print(uber_df['To Grade'].unique())\n",
    "print('\\n')\n",
    "print(uber_df['From Grade'].unique())\n",
    "print('\\n')\n",
    "print(uber_df['Action'].unique())\n",
    "\n",
    "#'Firm' are either banks or investment firms that provide their analyses on the stock.\n",
    "#'To Grade' are their updated analyses, 'From Grade' are their previous analyses. \n",
    "#'Outperform, buy, overweight, market outperform' suggests that future prices will rise and recommendation is to buy the stock.\n",
    "#'Neutral, equal-weight, peer perform' suggests that stock will perform similarly to expected market returns,  \n",
    "# and recommendation is to neither buy nor sell. "
   ]
  },
  {
   "cell_type": "code",
   "execution_count": 194,
   "metadata": {},
   "outputs": [
    {
     "name": "stdout",
     "output_type": "stream",
     "text": [
      "Number of Neutral recommendations: 1\n"
     ]
    }
   ],
   "source": [
    "#'To Grade' column: ['Outperform' 'Buy' 'Overweight' 'Neutral' 'Market Outperform']\n",
    "#Test for several timeframes (3mth,6mth,9mth,12mth), whether price increases since recommendation is to buy\n",
    "counter = 0\n",
    "for i in range(len(uber_df)):\n",
    "    if uber_df['To Grade'].iloc[i] == 'Neutral':\n",
    "        counter += 1\n",
    "print('Number of Neutral recommendations: ' + str(counter))\n"
   ]
  },
  {
   "cell_type": "code",
   "execution_count": 204,
   "metadata": {},
   "outputs": [
    {
     "name": "stdout",
     "output_type": "stream",
     "text": [
      "140\n",
      "172\n"
     ]
    },
    {
     "data": {
      "text/plain": [
       "array(['Outperform', 'Buy', 'Sell', 'Hold', 'Overweight', 'Underweight',\n",
       "       'Market Perform', 'Equal-Weight', 'Neutral', 'Strong Buy',\n",
       "       'Peer Perform', 'In-Line', 'Underperform'], dtype=object)"
      ]
     },
     "execution_count": 204,
     "metadata": {},
     "output_type": "execute_result"
    }
   ],
   "source": [
    "delta_df = yf.Ticker('DAL')\n",
    "delta_df = delta_df.recommendations.reset_index()\n",
    "delta_df['Date'] = pd.to_datetime(delta_df['Date']).dt.date #get rid of the time and keep the date portion \n",
    "for i in range(len(delta_df)):\n",
    "    if delta_df['Date'][i].year==2020:\n",
    "        print(i)\n",
    "        break\n",
    "for i in range(len(delta_df)):\n",
    "    if delta_df['Date'][i].year==2021 and delta_df['Date'][i].month==4:\n",
    "        print(i)\n",
    "        break\n",
    "#delta_df = delta_df.iloc[140:172]\n",
    "delta_df['To Grade'].unique()"
   ]
  },
  {
   "cell_type": "code",
   "execution_count": null,
   "metadata": {
    "collapsed": true
   },
   "outputs": [],
   "source": [
    "#which firms recommend buy and which recommend sell/neutral? "
   ]
  }
 ],
 "metadata": {
  "kernelspec": {
   "display_name": "Python 3.7 (tensorflow)",
   "language": "python",
   "name": "tensorflow"
  },
  "language_info": {
   "codemirror_mode": {
    "name": "ipython",
    "version": 3
   },
   "file_extension": ".py",
   "mimetype": "text/x-python",
   "name": "python",
   "nbconvert_exporter": "python",
   "pygments_lexer": "ipython3",
   "version": "3.7.7"
  }
 },
 "nbformat": 4,
 "nbformat_minor": 4
}
